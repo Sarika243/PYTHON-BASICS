{
 "cells": [
  {
   "cell_type": "markdown",
   "id": "2f06bd01",
   "metadata": {},
   "source": [
    "# Print Statements"
   ]
  },
  {
   "cell_type": "code",
   "execution_count": 12,
   "id": "0a47b631",
   "metadata": {},
   "outputs": [
    {
     "name": "stdout",
     "output_type": "stream",
     "text": [
      "Hello how are you?\n",
      "11\n"
     ]
    }
   ],
   "source": [
    "#Print Statements\n",
    "#syntax:print(*objects,sep=' ',end='\\n',file=sys.stdout,flush=False)\n",
    "print(\"Hello\",\"how are you?\",sep=\" \")\n",
    "a=6\n",
    "b=5\n",
    "print(a+b)"
   ]
  },
  {
   "cell_type": "code",
   "execution_count": 10,
   "id": "14247061",
   "metadata": {},
   "outputs": [
    {
     "name": "stdout",
     "output_type": "stream",
     "text": [
      "Sum a+b\n"
     ]
    }
   ],
   "source": [
    "#print more than one object\n",
    "print(\"Sum\",\"a+b\")"
   ]
  },
  {
   "cell_type": "code",
   "execution_count": 5,
   "id": "61b1c4fe",
   "metadata": {},
   "outputs": [
    {
     "name": "stdout",
     "output_type": "stream",
     "text": [
      "('apple', 'banana', 'Kiwi')\n"
     ]
    }
   ],
   "source": [
    "#printing a tuple\n",
    "x=(\"apple\",\"banana\",\"Kiwi\")\n",
    "print(x)"
   ]
  },
  {
   "cell_type": "markdown",
   "id": "d1218466",
   "metadata": {},
   "source": [
    "# string formats and place holders"
   ]
  },
  {
   "cell_type": "code",
   "execution_count": 16,
   "id": "90bd17ab",
   "metadata": {},
   "outputs": [
    {
     "name": "stdout",
     "output_type": "stream",
     "text": [
      "My name is Sarika,I'm 19\n"
     ]
    }
   ],
   "source": [
    "#number index placeholders\n",
    "x=\"My name is {0},I'm {1}\".format(\"Sarika\",19)\n",
    "print(x)"
   ]
  },
  {
   "cell_type": "code",
   "execution_count": 18,
   "id": "814e00c3",
   "metadata": {},
   "outputs": [
    {
     "name": "stdout",
     "output_type": "stream",
     "text": [
      "My name is Sarika,I'm 19\n"
     ]
    }
   ],
   "source": [
    "#empty placeholders\n",
    "x=\"My name is {},I'm {}\".format(\"Sarika\",19)\n",
    "print(x)"
   ]
  },
  {
   "cell_type": "markdown",
   "id": "bf87fdda",
   "metadata": {},
   "source": [
    "# Data Types"
   ]
  },
  {
   "cell_type": "code",
   "execution_count": 19,
   "id": "7b2e1e81",
   "metadata": {},
   "outputs": [
    {
     "name": "stdout",
     "output_type": "stream",
     "text": [
      "<class 'int'>\n"
     ]
    }
   ],
   "source": [
    "a=9\n",
    "print(type(a))"
   ]
  },
  {
   "cell_type": "code",
   "execution_count": 20,
   "id": "5564e52d",
   "metadata": {},
   "outputs": [
    {
     "name": "stdout",
     "output_type": "stream",
     "text": [
      "<class 'float'>\n"
     ]
    }
   ],
   "source": [
    "a=13.33\n",
    "print(type(a))"
   ]
  },
  {
   "cell_type": "code",
   "execution_count": 21,
   "id": "294ece3e",
   "metadata": {},
   "outputs": [
    {
     "name": "stdout",
     "output_type": "stream",
     "text": [
      "<class 'complex'>\n"
     ]
    }
   ],
   "source": [
    "b=2j\n",
    "print(type(b))"
   ]
  },
  {
   "cell_type": "code",
   "execution_count": 22,
   "id": "6bfe1d2b",
   "metadata": {},
   "outputs": [
    {
     "name": "stdout",
     "output_type": "stream",
     "text": [
      "<class 'tuple'>\n"
     ]
    }
   ],
   "source": [
    "x=(\"apple\",\"banana\",\"Kiwi\")\n",
    "print(type(x))"
   ]
  },
  {
   "cell_type": "code",
   "execution_count": 23,
   "id": "5354a06d",
   "metadata": {},
   "outputs": [
    {
     "name": "stdout",
     "output_type": "stream",
     "text": [
      "<class 'list'>\n"
     ]
    }
   ],
   "source": [
    "x=[\"apple\",\"banana\",\"Kiwi\"]\n",
    "print(type(x))"
   ]
  },
  {
   "cell_type": "code",
   "execution_count": 24,
   "id": "edce1f80",
   "metadata": {},
   "outputs": [
    {
     "name": "stdout",
     "output_type": "stream",
     "text": [
      "<class 'range'>\n"
     ]
    }
   ],
   "source": [
    "x=range(4)\n",
    "print(type(x))"
   ]
  },
  {
   "cell_type": "code",
   "execution_count": 25,
   "id": "ca857f53",
   "metadata": {},
   "outputs": [
    {
     "name": "stdout",
     "output_type": "stream",
     "text": [
      "<class 'dict'>\n"
     ]
    }
   ],
   "source": [
    "x={'name':'John','age':36}\n",
    "print(type(x))"
   ]
  },
  {
   "cell_type": "code",
   "execution_count": 26,
   "id": "bf118cc6",
   "metadata": {},
   "outputs": [
    {
     "name": "stdout",
     "output_type": "stream",
     "text": [
      "<class 'set'>\n"
     ]
    }
   ],
   "source": [
    "x={\"apple\",\"banana\",\"Kiwi\"}\n",
    "print(type(x))"
   ]
  },
  {
   "cell_type": "code",
   "execution_count": 27,
   "id": "4acb65d3",
   "metadata": {},
   "outputs": [
    {
     "name": "stdout",
     "output_type": "stream",
     "text": [
      "<class 'NoneType'>\n"
     ]
    }
   ],
   "source": [
    "x=None\n",
    "print(type(x))"
   ]
  },
  {
   "cell_type": "code",
   "execution_count": 28,
   "id": "0b3980b0",
   "metadata": {},
   "outputs": [
    {
     "name": "stdout",
     "output_type": "stream",
     "text": [
      "<class 'bool'>\n"
     ]
    }
   ],
   "source": [
    "x=True\n",
    "print(type(x))"
   ]
  },
  {
   "cell_type": "code",
   "execution_count": 29,
   "id": "9329e7d1",
   "metadata": {},
   "outputs": [
    {
     "name": "stdout",
     "output_type": "stream",
     "text": [
      "<class 'bytes'>\n"
     ]
    }
   ],
   "source": [
    "x=b\"Hi\"\n",
    "print(type(x))"
   ]
  },
  {
   "cell_type": "code",
   "execution_count": 30,
   "id": "0b716ea8",
   "metadata": {},
   "outputs": [
    {
     "name": "stdout",
     "output_type": "stream",
     "text": [
      "<class 'bytearray'>\n"
     ]
    }
   ],
   "source": [
    "x=bytearray(4)\n",
    "print(type(x))"
   ]
  },
  {
   "cell_type": "markdown",
   "id": "b6604a1c",
   "metadata": {},
   "source": [
    "# string append"
   ]
  },
  {
   "cell_type": "code",
   "execution_count": 34,
   "id": "df0b1147",
   "metadata": {},
   "outputs": [
    {
     "name": "stdout",
     "output_type": "stream",
     "text": [
      "Sarika is doing good\n"
     ]
    }
   ],
   "source": [
    "#concatenate strings using +=\n",
    "x=\"Sarika\"\n",
    "y=\" is doing good\"\n",
    "print(x + y)"
   ]
  },
  {
   "cell_type": "code",
   "execution_count": 36,
   "id": "5ae46a4e",
   "metadata": {},
   "outputs": [
    {
     "name": "stdout",
     "output_type": "stream",
     "text": [
      "Sarika is doing good\n"
     ]
    }
   ],
   "source": [
    "#using join\n",
    "x=\"Sarika\"\n",
    "y=\" is doing good\"\n",
    "print(\"\".join((x,y)))"
   ]
  },
  {
   "cell_type": "code",
   "execution_count": 39,
   "id": "dec5fae8",
   "metadata": {},
   "outputs": [
    {
     "name": "stdout",
     "output_type": "stream",
     "text": [
      "Sarika is doing good\n"
     ]
    }
   ],
   "source": [
    "#using f\n",
    "x=\"Sarika\"\n",
    "y=\" is doing good\"\n",
    "print(f'{x}{y}')"
   ]
  },
  {
   "cell_type": "code",
   "execution_count": 42,
   "id": "3d7d7cb8",
   "metadata": {},
   "outputs": [
    {
     "name": "stdout",
     "output_type": "stream",
     "text": [
      "Sarika is doing good\n"
     ]
    }
   ],
   "source": [
    "#using __add__\n",
    "x=\"Sarika\"\n",
    "y=\" is doing good\"\n",
    "print(x.__add__(y))"
   ]
  },
  {
   "cell_type": "code",
   "execution_count": 43,
   "id": "7432223d",
   "metadata": {},
   "outputs": [
    {
     "name": "stdout",
     "output_type": "stream",
     "text": [
      "Sarika is doing good\n"
     ]
    }
   ],
   "source": [
    "#using format\n",
    "x=\"Sarika\"\n",
    "y=\" is doing good\"\n",
    "print(\"{}{}\".format(x,y))"
   ]
  },
  {
   "cell_type": "code",
   "execution_count": null,
   "id": "66556123",
   "metadata": {},
   "outputs": [],
   "source": []
  }
 ],
 "metadata": {
  "celltoolbar": "Raw Cell Format",
  "kernelspec": {
   "display_name": "Python 3 (ipykernel)",
   "language": "python",
   "name": "python3"
  },
  "language_info": {
   "codemirror_mode": {
    "name": "ipython",
    "version": 3
   },
   "file_extension": ".py",
   "mimetype": "text/x-python",
   "name": "python",
   "nbconvert_exporter": "python",
   "pygments_lexer": "ipython3",
   "version": "3.9.12"
  }
 },
 "nbformat": 4,
 "nbformat_minor": 5
}
